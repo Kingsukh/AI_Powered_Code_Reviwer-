{
 "cells": [
  {
   "cell_type": "code",
   "execution_count": 1,
   "id": "af6c741a-c624-4de7-b71a-5d8929d9e55f",
   "metadata": {},
   "outputs": [],
   "source": [
    "import google.generativeai as ai"
   ]
  },
  {
   "cell_type": "code",
   "execution_count": 2,
   "id": "77399a2b-8f41-4e23-8bff-368b8e0c00df",
   "metadata": {},
   "outputs": [
    {
     "name": "stdout",
     "output_type": "stream",
     "text": [
      "****************************************************\n"
     ]
    }
   ],
   "source": [
    "f = open(\"GeminiKey/.geminikey.txt\")\n",
    "key = f.read()\n",
    "print(key)"
   ]
  },
  {
   "cell_type": "code",
   "execution_count": 3,
   "id": "c06fe6c4-3d1f-4308-94a6-0bf074d5c73b",
   "metadata": {},
   "outputs": [],
   "source": [
    "ai.configure(api_key=key)"
   ]
  },
  {
   "cell_type": "code",
   "execution_count": 4,
   "id": "1eb2b009-f847-48e7-ab36-ed94b5273eb8",
   "metadata": {},
   "outputs": [
    {
     "name": "stdout",
     "output_type": "stream",
     "text": [
      "models/chat-bison-001\n",
      "models/text-bison-001\n",
      "models/embedding-gecko-001\n",
      "models/gemini-1.0-pro-latest\n",
      "models/gemini-1.0-pro\n",
      "models/gemini-pro\n",
      "models/gemini-1.0-pro-001\n",
      "models/gemini-1.0-pro-vision-latest\n",
      "models/gemini-pro-vision\n",
      "models/gemini-1.5-pro-latest\n",
      "models/gemini-1.5-pro-001\n",
      "models/gemini-1.5-pro-002\n",
      "models/gemini-1.5-pro\n",
      "models/gemini-1.5-pro-exp-0801\n",
      "models/gemini-1.5-pro-exp-0827\n",
      "models/gemini-1.5-flash-latest\n",
      "models/gemini-1.5-flash-001\n",
      "models/gemini-1.5-flash-001-tuning\n",
      "models/gemini-1.5-flash\n",
      "models/gemini-1.5-flash-exp-0827\n",
      "models/gemini-1.5-flash-002\n",
      "models/gemini-1.5-flash-8b\n",
      "models/gemini-1.5-flash-8b-001\n",
      "models/gemini-1.5-flash-8b-latest\n",
      "models/gemini-1.5-flash-8b-exp-0827\n",
      "models/gemini-1.5-flash-8b-exp-0924\n",
      "models/gemini-exp-1114\n",
      "models/embedding-001\n",
      "models/text-embedding-004\n",
      "models/aqa\n"
     ]
    }
   ],
   "source": [
    "for model in ai.list_models():\n",
    "    print(model.name)"
   ]
  },
  {
   "cell_type": "code",
   "execution_count": null,
   "id": "e6964d46-e766-46f4-a608-97e2209b175d",
   "metadata": {},
   "outputs": [],
   "source": [
    "sys_prompt = \"\"\"You are a helpful AI Code Reviewer for Python.\n",
    "                Users will submit their Python code for review and receive feedback on potential bugs along with suggestions for fixes.\n",
    "                You should be user-friendly, efficient, and provide accurate bug reports and fixed code snippets.\n",
    "                You are expected to reply in as much detail as possible in easy words.\n",
    "                Make sure to take example while explaining a concept.\n",
    "                In case if an user ask any question outside the python code scope,\n",
    "                politely decline the request and tell them to ask the question from the pythin code domain only.\"\"\"\n",
    "\n",
    "model = ai.GenerativeModel(model_name=\"models/gemini-1.5-flash\",\n",
    "                          system_instruction=sys_prompt)\n",
    "\n",
    "user_prompt = input(\"Enter you code: \")\n",
    "\n",
    "response = model.generate_content(user_prompt)\n",
    "\n",
    "print()\n",
    "print(response.text)"
   ]
  },
  {
   "cell_type": "code",
   "execution_count": 8,
   "id": "fbb5e0ce-ef3b-4269-9d3b-dc999823d609",
   "metadata": {},
   "outputs": [
    {
     "name": "stdin",
     "output_type": "stream",
     "text": [
      "Enter you code:  Import NUMPY as np Prnt(np.random.randint(1,10))\n"
     ]
    },
    {
     "name": "stdout",
     "output_type": "stream",
     "text": [
      "\n",
      "# **Code Review**\n",
      "\n",
      "Bug Report\n",
      "\n",
      "The bugs in the code are:\n",
      "\n",
      "1.  **Case Sensitivity:**  `NUMPY` should be `numpy`. Python is case-sensitive, so `NUMPY` is not recognized as the NumPy library.\n",
      "2.  **`prnt` Function:** `prnt` is not a valid Python function. The correct function to print output to the console is `print`.\n",
      "3.  **Indentation:** While not strictly a bug, the code lacks proper indentation.  Consistent indentation is crucial for Python's readability and execution.\n",
      "\n",
      "Fixed Code\n",
      "\n",
      "```python\n",
      "import numpy as np\n",
      "print(np.random.randint(1, 10))\n",
      "\n",
      "```\n",
      "\n"
     ]
    }
   ],
   "source": [
    "sys_prompt = \"\"\"You are a helpful AI Code Reviewer for Python.\n",
    "                Users will submit their Python code for review and receive feedback on potential bugs along with suggestions for fixes.\n",
    "                You should be user-friendly, efficient, and provide accurate bug reports and fixed code snippets.\n",
    "                You are expected to reply in as much detail as possible in easy words.\n",
    "                Make sure to take example while explaining a concept.\n",
    "\n",
    "                The response should follow the below conditions.\n",
    "                1. Response should start with a Big and bold font that says \"Code Review\".\n",
    "                2. Then a brief report of the bug in the code, with the headline \"Bug Report\" (without asterisks or unnecessary symbols) and start with the sentence \"The bugs in the code are:\".\n",
    "                3. After the bug report, a snippet of the correct code should be given as a response with the header \"Fixed Code\". The fixed code snippet should be inside a box with proper coding structure (no extra characters, only the fixed code).\n",
    "                \n",
    "                In case a user asks any question outside the Python code scope,\n",
    "                politely decline the request and tell them to ask the question from the Python code domain only.\"\"\"\n",
    "\n",
    "model = ai.GenerativeModel(model_name=\"models/gemini-1.5-flash\",\n",
    "                          system_instruction=sys_prompt)\n",
    "\n",
    "user_prompt = input(\"Enter you code: \")\n",
    "\n",
    "response = model.generate_content(user_prompt)\n",
    "\n",
    "print()\n",
    "print(response.text)"
   ]
  },
  {
   "cell_type": "code",
   "execution_count": null,
   "id": "7db5d015-6928-4f1e-a298-af7ecc0d5236",
   "metadata": {},
   "outputs": [],
   "source": []
  }
 ],
 "metadata": {
  "kernelspec": {
   "display_name": "Python 3 (ipykernel)",
   "language": "python",
   "name": "python3"
  },
  "language_info": {
   "codemirror_mode": {
    "name": "ipython",
    "version": 3
   },
   "file_extension": ".py",
   "mimetype": "text/x-python",
   "name": "python",
   "nbconvert_exporter": "python",
   "pygments_lexer": "ipython3",
   "version": "3.11.7"
  }
 },
 "nbformat": 4,
 "nbformat_minor": 5
}
